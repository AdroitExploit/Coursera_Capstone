{
 "cells": [
  {
   "cell_type": "markdown",
   "metadata": {
    "collapsed": true
   },
   "source": [
    "__Opening a new Italian Restaurant__\n",
    "\n",
    "Introduction and Buisness Problem\n",
    "\n",
    "Waluigi wants to open a new Italian restaurant in New York City.  He needs to figure out where the best place to establish himself would be.  \n",
    "The main issue is that there are many other Italian restaurants to compete with.  \n",
    "So he wants to identify an area that has plenty of successful restaurants, but not many specifically Italian restaurants.\n",
    "\n",
    "How Data Will be Used to Solve the Problem\n",
    "\n",
    "I plan to use foursquare location data to determine areas with highly rated restaurants.  \n",
    "And then use it to identify areas where there is a low frequency of Italian restaurants.\n",
    "Finally, by figuring out where these areas overlap Waluigi will be able to identify the best place for his new restaurant."
   ]
  },
  {
   "cell_type": "code",
   "execution_count": null,
   "metadata": {},
   "outputs": [],
   "source": []
  }
 ],
 "metadata": {
  "kernelspec": {
   "display_name": "Python 3.5",
   "language": "python",
   "name": "python3"
  },
  "language_info": {
   "codemirror_mode": {
    "name": "ipython",
    "version": 3
   },
   "file_extension": ".py",
   "mimetype": "text/x-python",
   "name": "python",
   "nbconvert_exporter": "python",
   "pygments_lexer": "ipython3",
   "version": "3.5.5"
  }
 },
 "nbformat": 4,
 "nbformat_minor": 1
}
