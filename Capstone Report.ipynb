{
 "cells": [
  {
   "cell_type": "markdown",
   "metadata": {
    "collapsed": true
   },
   "source": [
    "__Opening a new Italian Restaurant__\n",
    "===\n",
    "\n",
    "__Introduction and Buisness Problem__\n",
    "\n",
    "Waluigi wants to open a new Italian restaurant in Toronto. Toronto is a big city with a population over 2.8 million and has a plenthora of cutures including a strong Italian presence.  \n",
    "He needs to figure out where the best place to establish himself would be in order for his buisness to have the best chance for success..\n",
    "The main issue is that there are many other Italian restaurants to compete with, he does not know where they are located or which restaurants are the toughests competitors.\n",
    "So he wants to identify an area that has a gap of Italian restaurants and expecially does not want to be located next to a highly rated Italian Restaurant.\n",
    "\n",
    "__How Data Will be Used to Solve the Problem__\n",
    "\n",
    "I plan to use Foursquare data to identify the frequency of Italian restaurants in the core Toronto area in order to identify a gap.  eg. foursquare data on the number of restaurants in category: Italian. \n",
    "I will then check average rating on the Italian restaurants because we do not want to establish the new restaurant near a highly rated competitor.\n",
    "Finally, by analyzing this data I will be able to reccomend the best place location for Waluigi's new restaurant.\n",
    "\n",
    "__Methodology__\n",
    "The first step was to import all nessasary libraries into the Notebook running python.  Numpy, json and pandas were imported to handle data in a vectorized manner, handle JSON files and for data analysis respectively.  Nominatim was imported to convert city name into latitude and longitude and json_normalize was imported to transform JSON files into a usable dataframe.  Kmeans was imported for any clustering analysis needed and matplotlib and folium were needed for plotting modules and redering maps for visualization respectiviely.\n",
    "Credentials were then defined in order to be ready to make calls to the Foursquare API for required data.  Next using the appropriate URL, the a search query was submitted to obtain data on all the Italian venues closest to the core of Toronto.  The GET request was sent and results were examined.  Since there was much unnessasary data obtained the relevant parts of the JSON file were transformed into a pandas dataframe.  Categories, being the value of interest was extracted and the dataframe was cleaned up.  At this point some visualization was ideal and so a map centred on Toronto was created with the relevant restaurants added as blue markers.  So now we had a map showing the geographical location of all competitors in the Italian restaurant industry.  Each of these venues where then looked at in more depth in order to obtain the overall ratings and figure out which were the top competitors amd which were not. \n",
    "\n",
    "__Results__\n",
    "In the radius anaylyzed 10 Italian venues were found 1 of which was the Italian Embassy and 9 of which were Italian restaurants.  The map allowed for a clear visualization of Italian restaurant locations and gaps where there was a lack of such venues.  The additional data on the Italian restaurants revealed overall ratings for those of which had a rating.  One venue was particularly highly rated, one had a particularly low rating and a few did not have a rating available at all.\n",
    "\n",
    "__Discussion__\n",
    "The map of Italian restuarants revealed that there were many already established for such a small area, but there were aso gaps exposed where a new Waliugi's could be opened.  In the north-east area of the queried radius was much open space with few Italian restaurants however, Scaddabush Italian Kitchen & Bar a highly rated establishment was in this area and so there would be tough competition in this area.  The south-east had a few more Italian venues, however they were on average rated lower including Sbarro with a rating of just 4.1.  This may be a good location for a new Italian restaurant.\n",
    "\n",
    "__Conclusion__\n",
    "The data analyzed and visualized in this work allows for Waliugi and any other parties interested in opening a new italian restaurant to determine where the ideal spot might be.  Both by having the rating of their inevitable competitors and a clear map of thier locations and therefore market territory."
   ]
  },
  {
   "cell_type": "code",
   "execution_count": null,
   "metadata": {},
   "outputs": [],
   "source": []
  }
 ],
 "metadata": {
  "kernelspec": {
   "display_name": "Python 3.5",
   "language": "python",
   "name": "python3"
  },
  "language_info": {
   "codemirror_mode": {
    "name": "ipython",
    "version": 3
   },
   "file_extension": ".py",
   "mimetype": "text/x-python",
   "name": "python",
   "nbconvert_exporter": "python",
   "pygments_lexer": "ipython3",
   "version": "3.5.5"
  }
 },
 "nbformat": 4,
 "nbformat_minor": 1
}
